{
 "cells": [
  {
   "cell_type": "code",
   "execution_count": 3,
   "metadata": {},
   "outputs": [
    {
     "data": {
      "text/plain": [
       "[1, 0, 1, 1, 1, 1, 0, 1, 0, 0, 1, 0]"
      ]
     },
     "execution_count": 3,
     "metadata": {},
     "output_type": "execute_result"
    }
   ],
   "source": [
    "x='101111010010'\n",
    "[[int(c) for c in x] for s in input_data]"
   ]
  },
  {
   "cell_type": "code",
   "execution_count": 19,
   "metadata": {},
   "outputs": [
    {
     "name": "stdout",
     "output_type": "stream",
     "text": [
      "[(0, 3), (5, 8), (10, 11)]\n",
      "[]\n"
     ]
    },
    {
     "data": {
      "text/plain": [
       "<function Match.span(group=0, /)>"
      ]
     },
     "execution_count": 19,
     "metadata": {},
     "output_type": "execute_result"
    }
   ],
   "source": [
    "import re\n",
    "x='467..114..5'\n",
    "pattern = r'(\\d+)'\n",
    "print([(m.start(0), m.end(0)) for m in re.finditer(pattern, x)]  )\n",
    "# print(re.match(r'\\d',x))\n",
    "#digits = re.finditer(pattern, x)\n",
    "# digits = re.findall(r'(\\d).*(\\d)', x\n",
    "#i=next(digits)\n",
    "print([i for i in digits])\n",
    "i.span\n",
    "\n",
    "# a = [m.start() for m in re.finditer(\n",
    "#     '(?={0})'.format(re.escape(pattern)), x)]\n",
    "# matches = re.finditer(f'(?=({pattern}))', x)\n",
    "# print([match.group(1) for match in matches])\n",
    "# print(a)\n"
   ]
  },
  {
   "cell_type": "code",
   "execution_count": 11,
   "metadata": {},
   "outputs": [
    {
     "name": "stdout",
     "output_type": "stream",
     "text": [
      "1 5\n",
      "3 4\n"
     ]
    }
   ],
   "source": [
    "x= [(1,5), (3,4)]\n",
    "for a,b in x:\n",
    "  print(a,b)"
   ]
  }
 ],
 "metadata": {
  "interpreter": {
   "hash": "4949757fc76c14544d45a28e8da14c4f92b5bfb3c438dc3c58943a0bdc722cc1"
  },
  "kernelspec": {
   "display_name": "Python 3.9.9 64-bit ('aoc39': pyenv)",
   "language": "python",
   "name": "python3"
  },
  "language_info": {
   "codemirror_mode": {
    "name": "ipython",
    "version": 3
   },
   "file_extension": ".py",
   "mimetype": "text/x-python",
   "name": "python",
   "nbconvert_exporter": "python",
   "pygments_lexer": "ipython3",
   "version": "3.9.9"
  },
  "orig_nbformat": 4
 },
 "nbformat": 4,
 "nbformat_minor": 2
}
